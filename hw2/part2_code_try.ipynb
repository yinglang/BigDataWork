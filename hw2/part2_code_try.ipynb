{
 "cells": [
  {
   "cell_type": "markdown",
   "metadata": {},
   "source": [
    "# 0 GraphLite Monitor\n",
    "single process"
   ]
  },
  {
   "cell_type": "code",
   "execution_count": 4,
   "metadata": {
    "ExecuteTime": {
     "end_time": "2018-06-05T10:40:20.725145Z",
     "start_time": "2018-06-05T10:40:20.707984Z"
    }
   },
   "outputs": [],
   "source": [
    "class Edge:\n",
    "    def __init__(self, source, target, weight):\n",
    "        self.source = source\n",
    "        self.target = target\n",
    "        self.value = weight\n",
    "        self.globalvar = {}\n",
    "        \n",
    "    def __str__(self):\n",
    "        return str((self.source, self.target, self.value))\n",
    "        \n",
    "class Message:\n",
    "    def __init__(self, source, target, value):\n",
    "        self.source = source\n",
    "        self.target = target\n",
    "        self.value = value\n",
    "        \n",
    "    def __str__(self):\n",
    "        return str((self.source, self.target, self.value))\n",
    "\n",
    "class Vertex:\n",
    "    globalvar = {}            # set by master, it is a copy of master var; or aggregator\n",
    "    def __init__(self, vid):\n",
    "        self.vid = vid\n",
    "        self.outEdges = []     # neighbour is out neighbour, A->B means A has neighbour B, but B has not neighbour A\n",
    "        self.halt = False\n",
    "        self.outMsgs = []\n",
    "        \n",
    "    def voteToHalt(self):\n",
    "        self.halt = True\n",
    "    \n",
    "    def compute(self, inMsgs):\n",
    "        if self.getSuperStep() == 0:\n",
    "            for edge in self.outEdges: print(edge, end=' ')\n",
    "            print(\"\")\n",
    "            self.voteToHalt()\n",
    "    \n",
    "    def sendMessageToNeighbour(self, target, value):\n",
    "        self.outMsgs.append(Message(self.vid, target, value))\n",
    "        \n",
    "    def sendMessageToAllNeighbours(self, value):\n",
    "        for egde in self.outEdges:\n",
    "            self.outMsgs.append(Message(self.vid, egde.target, value))\n",
    "            \n",
    "    def __str__(self):\n",
    "        return str((self.vid, [(e.target, e.value) for e in self.outEdges], self.outMsgs, self.halt))\n",
    "    \n",
    "    def getSuperStep(self):\n",
    "        return Vertex.globalvar['superstep']\n",
    "    \n",
    "    def accumulate(self, idx, value):\n",
    "        Vertex.globalvar['aggregators'][idx].accumulate(value)\n",
    "        \n",
    "    def getAggrGlobal(self, idx):\n",
    "        return Vertex.globalvar['aggregators'][idx].global_v\n",
    "        \n",
    "class Aggregator:\n",
    "    def __init__(self, initLocalValue=None, initGlobalValue=None):\n",
    "        self.initLocalValue = initLocalValue\n",
    "        self.initGlobalValue = initGlobalValue\n",
    "        self.init()\n",
    "        \n",
    "    def init(self): #\n",
    "        self.local_v = self.initLocalValue     # current local var, in vertex can be write.\n",
    "        self.global_v = self.initGlobalValue   # last global var, in vertex can only read.\n",
    "    \n",
    "    def merge(self, value): #  global init, single process do not need\n",
    "        self.global_v += value\n",
    "        \n",
    "    def accumulate(self, value): # local init\n",
    "        self.local_v += value\n",
    "        \n",
    "    def copy(self):\n",
    "        a = Aggregator()\n",
    "        a.initLocalValue = self.initLocalValue\n",
    "        a.initGlobalValue = self.initGlobalValue\n",
    "        a.local_v = self.local_v\n",
    "        a.global_v =  self.global_v\n",
    "        return a\n",
    "        \n",
    "class Graph:\n",
    "    def __init__(self, vertexs, edges):\n",
    "        self.vertexs = vertexs\n",
    "        self.edges = edges\n",
    "        self.inMsgs = []\n",
    "        for i in range(len(self.vertexs)):   # parfor\n",
    "            self.inMsgs.append([])\n",
    "        self.outMsgs = []\n",
    "        self.aggregators = []\n",
    "        \n",
    "    def copyGlobal(self):                               # just like Aggregator\n",
    "        Vertex.globalvar['superstep'] = self.superstep\n",
    "        \n",
    "        if 'aggregators' in Vertex.globalvar:           # after sovle\n",
    "            # merge local(Vertex) to global(Graph)\n",
    "            for gagg in self.aggregators: gagg.init()\n",
    "            Vaggs = [Vertex.globalvar['aggregators']]\n",
    "            for i in range(len(self.aggregators)):\n",
    "                gagg = self.aggregators[i]\n",
    "                for worker_id in range(1):  # single process\n",
    "                    vagg = Vaggs[worker_id][i]\n",
    "                    gagg.merge(vagg.local_v)\n",
    "        \n",
    "        # copy global(Graph) to global(Vertex)\n",
    "        if 'aggregators' not in Vertex.globalvar:\n",
    "            Vertex.globalvar['aggregators'] = []\n",
    "            for agg in self.aggregators:\n",
    "                Vertex.globalvar['aggregators'].append(agg.copy())\n",
    "        else:\n",
    "            for vagg in Vertex.globalvar['aggregators']: vagg.init()\n",
    "            Vaggs = [Vertex.globalvar['aggregators']]\n",
    "            for i in range(len(self.aggregators)):\n",
    "                gagg = self.aggregators[i]\n",
    "                for worker_id in range(1):  # single process\n",
    "                    vagg = Vaggs[worker_id][i]\n",
    "                    vagg.merge(gagg.global_v)\n",
    "        \n",
    "    def splitMessage(self):\n",
    "        self.clearMessage(self.inMsgs)\n",
    "        for msg in self.outMsgs:\n",
    "            self.inMsgs[msg.target].append(msg)\n",
    "        self.outMsgs[:] = []\n",
    "        \n",
    "    def clearMessage(self, msgs):\n",
    "        for i in range(len(msgs)):\n",
    "            msgs[i][:] = []\n",
    "            \n",
    "    def collectOutMessage(self):\n",
    "        for v in self.vertexs:\n",
    "            self.outMsgs.extend(v.outMsgs)\n",
    "            v.outMsgs[:] = []\n",
    "    \n",
    "    def run(self, verbose=False):\n",
    "        self.superstep = 0\n",
    "        all_halt = False\n",
    "        while not all_halt:\n",
    "            if verbose:\n",
    "                print(\"superstep\", self.superstep)\n",
    "            \n",
    "            self.copyGlobal()     # copy global var to some points, like aggregator\n",
    "            self.splitMessage()   # move outMsgs to inMsgs\n",
    "            \n",
    "            all_halt = True\n",
    "            for v in self.vertexs:\n",
    "                if not v.halt:\n",
    "                    all_halt = False\n",
    "                    v.compute(self.inMsgs[v.vid])\n",
    "                    \n",
    "            self.collectOutMessage() # collect all vertex.outMsgs to outMsgs\n",
    "            \n",
    "            if verbose:\n",
    "                if not all_halt:\n",
    "                    print([v.value for v in self.vertexs])\n",
    "            self.superstep += 1\n",
    "            \n",
    "    def __str__(self):\n",
    "        string = \"vertexs\"\n",
    "        for v in self.vertexs:\n",
    "            string += \"\\t\" + str(v) + \"\\n\"\n",
    "        return string\n",
    "        \n",
    "def createGraphFromG(G, Vertex=Vertex, Edge=Edge , Message=Message): # just like input formater and create_grpah\n",
    "    def addEdge(source, target, weight):\n",
    "        edge = Edge(source, target, weight)\n",
    "        edges.append(edge)\n",
    "        vertexs[source].outEdges.append(edge)\n",
    "        \n",
    "    edges = []\n",
    "    vertexs = []\n",
    "    N = len(G)\n",
    "    for vid in range(N):\n",
    "        vertexs.append(Vertex(vid))\n",
    "    for i in range(N):\n",
    "        for j in range(N):\n",
    "            if i!= j and G[i, j] >= 0:\n",
    "                addEdge(i, j, G[i, j])\n",
    "\n",
    "    graph = Graph(vertexs, edges)\n",
    "    return graph"
   ]
  },
  {
   "cell_type": "markdown",
   "metadata": {},
   "source": [
    "## 0.1 InputReader and Compare"
   ]
  },
  {
   "cell_type": "code",
   "execution_count": 6,
   "metadata": {
    "ExecuteTime": {
     "end_time": "2018-06-05T10:40:47.366317Z",
     "start_time": "2018-06-05T10:40:47.320085Z"
    }
   },
   "outputs": [],
   "source": [
    "import numpy as np\n",
    "INF = 1e10\n",
    "class SparseGraph:\n",
    "    def __init__(self, v_count=None, e_count=None, INF=None):\n",
    "        self.v_count = v_count\n",
    "        self.e_count = e_count\n",
    "        self.rows = {}\n",
    "        SparseGraph.INF = INF\n",
    "        self.iteridx = 0\n",
    "    \n",
    "    def addEdge(self, start, end, weight=None):\n",
    "        if start in self.rows:\n",
    "            self.rows[start][end] = weight\n",
    "        else:\n",
    "            self.rows[start] = {end: weight}\n",
    "            \n",
    "    def __getitem__(self, i):\n",
    "        i1, i2 = i\n",
    "        if i1 in self.rows and i2 in self.rows[i1]:\n",
    "            return self.rows[i1][i2]\n",
    "        else: return SparseGraph.INF\n",
    "    \n",
    "    def __setitem__(self, i, v):\n",
    "        i1, i2 = i\n",
    "        self.addEdge(i1, i2, v)\n",
    "    \n",
    "    def __len__(self):\n",
    "        return self.v_count\n",
    "        \n",
    "def loadFileToG(filepath):\n",
    "    f = open(filepath)\n",
    "    vertex_count = int(f.readline())\n",
    "    edge_count = int(f.readline())\n",
    "    G = SparseGraph(vertex_count, edge_count, INF=INF)\n",
    "    for line in f.readlines():\n",
    "        res = line.split(' ')\n",
    "        if len(res) < 2:\n",
    "            raise ValueError('edge line must have two element at least.')\n",
    "        s, e, w = int(res[0]), int(res[1]), 1\n",
    "        if len(res) >= 3:\n",
    "            w = float(res[2])\n",
    "        G[s, e] = w\n",
    "    return G\n",
    "\n",
    "def createGraphFromSparseG(G, Vertex=Vertex, Edge=Edge , Message=Message): # just like input formater and create_grpah\n",
    "    def addEdge(source, target, weight):\n",
    "        edge = Edge(source, target, weight)\n",
    "        edges.append(edge)\n",
    "        vertexs[source].outEdges.append(edge)\n",
    "        \n",
    "    edges = []\n",
    "    vertexs = []\n",
    "    N = len(G)\n",
    "    for vid in range(N):\n",
    "        vertexs.append(Vertex(vid))\n",
    "    for s in G.rows:\n",
    "        for t in G.rows[s]:\n",
    "            if s!= t:\n",
    "                addEdge(s, t, G.rows[s][t])\n",
    "\n",
    "    graph = Graph(vertexs, edges)\n",
    "    return graph\n",
    "\n",
    "# G = loadFileToG('cpp_GraphLite/part2-input/SSSP-graph0')\n",
    "# print len(G)\n",
    "# print G.e_count\n",
    "# graph = createGraphFromSparseG(G)\n",
    "\n",
    "def compare(data, filepath, seq=' '):\n",
    "    for i, (d, l) in enumerate(zip(data, open(filepath).readlines())):\n",
    "        rd = [float(e) for e in l.split(seq)]\n",
    "        for de, rde in zip(d, rd):\n",
    "            if de != rde:\n",
    "                print(\"not equal in line %d:\" %i, d,'!=', rd)\n",
    "                return False\n",
    "    return True"
   ]
  },
  {
   "cell_type": "markdown",
   "metadata": {},
   "source": [
    "# 1. SSSP(single source shortest path)"
   ]
  },
  {
   "cell_type": "markdown",
   "metadata": {},
   "source": [
    "## 1.1 create a simple test"
   ]
  },
  {
   "cell_type": "code",
   "execution_count": 7,
   "metadata": {
    "ExecuteTime": {
     "end_time": "2018-06-05T10:40:50.727996Z",
     "start_time": "2018-06-05T10:40:50.724178Z"
    }
   },
   "outputs": [],
   "source": [
    "import numpy as np\n",
    "def add_edge(G, v1, v2, w):\n",
    "    G[V[v1], V[v2]] = w\n",
    "    \n",
    "V = {'A':0, 'B':1, 'C':2, 'D':3, 'E':4, 'F':5}\n",
    "F = 'ABCDEF'\n",
    "G = [[0, 50, 10, -1, 45, -1],\n",
    "     [-1, 0, 15, -1, 10, -1],\n",
    "     [20, -1, 0, 15, -1, -1], \n",
    "     [-1, 20, -1, 0, 35, 3],\n",
    "     [-1, -1, -1, 30, 0, -1],\n",
    "     [-1, -1, -1, -1, -1, 0]]\n",
    "G = np.array(G)"
   ]
  },
  {
   "cell_type": "markdown",
   "metadata": {},
   "source": [
    "## 1.2 Bellman Folloy AL implement in GraphLite\n",
    "```py\n",
    "dis[:] = INF\n",
    "dis[source] = 0\n",
    "for k in range(N):\n",
    "    for v in vertexs:\n",
    "        for u in v.inNeighbours:\n",
    "            dis[v] = min(dis[v], dis[u]+G[u, v])\n",
    "```"
   ]
  },
  {
   "cell_type": "code",
   "execution_count": 8,
   "metadata": {
    "ExecuteTime": {
     "end_time": "2018-06-05T10:40:53.969557Z",
     "start_time": "2018-06-05T10:40:53.964705Z"
    }
   },
   "outputs": [],
   "source": [
    "V0 = 0\n",
    "update = True\n",
    "\n",
    "class IsUpdate(Aggregator):\n",
    "    def merge(self, value):\n",
    "        self.global_v = self.global_v or value\n",
    "        \n",
    "    def accumulate(self, value):\n",
    "        self.local_v = self.local_v or value\n",
    "\n",
    "class SSSPVertex(Vertex):\n",
    "    def compute(self, Msgs):\n",
    "        if self.getSuperStep() == 0:  # init\n",
    "            if self.vid == V0:\n",
    "                self.value = 0\n",
    "                for outEdge in self.outEdges:\n",
    "                    self.sendMessageToNeighbour(outEdge.target, outEdge.value)\n",
    "            else:\n",
    "                self.value = INF\n",
    "        else:\n",
    "            if(self.getSuperStep() >= 2):                # end condition\n",
    "                if not self.getAggrGlobal(0):\n",
    "                    self.voteToHalt()\n",
    "                    return;\n",
    "            \n",
    "            minpath = self.value\n",
    "            for msg in Msgs:\n",
    "                if minpath > msg.value:\n",
    "                    minpath = msg.value\n",
    "            if minpath < self.value:\n",
    "                self.value = minpath\n",
    "                self.accumulate(0, True)\n",
    "                for outEdge in self.outEdges:\n",
    "                    self.sendMessageToNeighbour(outEdge.target, minpath + outEdge.value)\n",
    "                \n",
    "def MyCreateGraphFromG(G, Vertex=Vertex, Edge=Edge , Message=Message):\n",
    "    graph = createGraphFromG(G, Vertex, Edge, Message)\n",
    "    graph.aggregators.append(IsUpdate(False, False))\n",
    "    return graph"
   ]
  },
  {
   "cell_type": "code",
   "execution_count": 9,
   "metadata": {
    "ExecuteTime": {
     "end_time": "2018-06-05T10:41:02.912627Z",
     "start_time": "2018-06-05T10:41:02.906288Z"
    }
   },
   "outputs": [
    {
     "name": "stdout",
     "output_type": "stream",
     "text": [
      "vertexs\t(0, [(1, 50), (2, 10), (4, 45)], [], False)\n",
      "\t(1, [(2, 15), (4, 10)], [], False)\n",
      "\t(2, [(0, 20), (3, 15)], [], False)\n",
      "\t(3, [(1, 20), (4, 35), (5, 3)], [], False)\n",
      "\t(4, [(3, 30)], [], False)\n",
      "\t(5, [], [], False)\n",
      "\n",
      "superstep 0\n",
      "[0, 10000000000.0, 10000000000.0, 10000000000.0, 10000000000.0, 10000000000.0]\n",
      "superstep 1\n",
      "[0, 50, 10, 10000000000.0, 45, 10000000000.0]\n",
      "superstep 2\n",
      "[0, 50, 10, 25, 45, 10000000000.0]\n",
      "superstep 3\n",
      "[0, 45, 10, 25, 45, 28]\n",
      "superstep 4\n",
      "[0, 45, 10, 25, 45, 28]\n",
      "superstep 5\n",
      "[0, 45, 10, 25, 45, 28]\n",
      "superstep 6\n"
     ]
    }
   ],
   "source": [
    "graph = MyCreateGraphFromG(G, Vertex=SSSPVertex)\n",
    "# graph = createGraphFromG(G)\n",
    "print(graph)\n",
    "graph.run(verbose=True)\n",
    "# repeate line 1 is set isUpdate to False\n",
    "# repeate line 2 is get kown isUpdate is False\n",
    "# so last three line repated"
   ]
  },
  {
   "cell_type": "markdown",
   "metadata": {},
   "source": [
    "## 1.3 Dijkstra AL"
   ]
  },
  {
   "cell_type": "code",
   "execution_count": 10,
   "metadata": {
    "ExecuteTime": {
     "end_time": "2018-06-05T10:41:10.100053Z",
     "start_time": "2018-06-05T10:41:10.092509Z"
    }
   },
   "outputs": [],
   "source": [
    "import numpy as np\n",
    "def SSSP_Dijkstra(G, s):\n",
    "    def find_min_dis_out_set(dis, in_set):\n",
    "        min_i = -1\n",
    "        min_dis = -1\n",
    "        for i in range(len(dis)):\n",
    "            if in_set[i] or dis[i] == -1: continue\n",
    "            if min_dis == -1 or min_dis > dis[i]:\n",
    "                min_dis = dis[i]\n",
    "                min_i = i\n",
    "        return min_i, min_dis\n",
    "    \n",
    "    def update_dis_out_set(dis, before_v, in_set, min_i):\n",
    "        for i in range(len(dis)):\n",
    "            if in_set[i]: continue\n",
    "            if G[min_i, i] == -1: continue\n",
    "            if dis[i] == -1 or dis[i] > dis[min_i] + G[min_i, i]:\n",
    "                dis[i] = dis[min_i] + G[min_i, i]\n",
    "                before_v[i] = min_i\n",
    "    \n",
    "    N = G.shape[0]\n",
    "    in_set = [False] * N\n",
    "    in_set[s] = True\n",
    "    dis = G[s, :].copy()\n",
    "    before_v = [s] * N    # for traceback to find path\n",
    "    \n",
    "    i = 1\n",
    "    while i < N:\n",
    "        min_i, min_dis = find_min_dis_out_set(dis, in_set)\n",
    "        if min_i == -1: break\n",
    "        in_set[min_i] = True\n",
    "        update_dis_out_set(dis, before_v, in_set, min_i)\n",
    "        i += 1\n",
    "    return dis, before_v\n",
    "\n",
    "def get_path(before_v, s, t, V):\n",
    "    v = t\n",
    "    path = [F[v]]\n",
    "    while v != s:\n",
    "        v = before_v[v]\n",
    "        path.append(F[v])\n",
    "    path.reverse()\n",
    "    return path"
   ]
  },
  {
   "cell_type": "code",
   "execution_count": 12,
   "metadata": {
    "ExecuteTime": {
     "end_time": "2018-06-05T10:41:17.740762Z",
     "start_time": "2018-06-05T10:41:17.736440Z"
    }
   },
   "outputs": [
    {
     "name": "stdout",
     "output_type": "stream",
     "text": [
      "0 ['A']\n",
      "45 ['A', 'C', 'D', 'B']\n",
      "10 ['A', 'C']\n",
      "25 ['A', 'C', 'D']\n",
      "45 ['A', 'E']\n",
      "28 ['A', 'C', 'D', 'F']\n"
     ]
    }
   ],
   "source": [
    "min_dis, before_v = SSSP_Dijkstra(G, 0)\n",
    "for t in range(len(V)):\n",
    "    print(min_dis[t], get_path(before_v, 0, t, V))"
   ]
  },
  {
   "cell_type": "markdown",
   "metadata": {
    "collapsed": true
   },
   "source": [
    "for k in range(N):\n",
    "    v = find_min_dis_out_set(dis, in_set)\n",
    "    update_dis_out_set(dis, in_set, v)\n",
    "\n",
    "def find_min(min_length, v):\n",
    "    if not v.value.inset:    # find min\n",
    "        if min_length > v.value.length:\n",
    "            min_length = v.value.length\n",
    "    \n",
    "for k in range(N):\n",
    "    min_length = INF\n",
    "    for v in vertexs:\n",
    "        find_min(min_length, v)\n",
    "    for v in \n",
    "    "
   ]
  },
  {
   "cell_type": "markdown",
   "metadata": {},
   "source": [
    "## 1.5 test on big data"
   ]
  },
  {
   "cell_type": "code",
   "execution_count": 13,
   "metadata": {
    "ExecuteTime": {
     "end_time": "2018-06-05T10:41:33.351701Z",
     "start_time": "2018-06-05T10:41:32.589649Z"
    }
   },
   "outputs": [
    {
     "name": "stdout",
     "output_type": "stream",
     "text": [
      "32767\n",
      "32766\n",
      "[0, 12.0, 14.0, 16.0, 16.0, 16.0, 18.0, 18.0, 18.0, 18.0, 18.0, 20.0, 20.0, 20.0, 20.0, 20.0, 20.0, 20.0, 20.0, 20.0, 20.0, 22.0, 22.0, 22.0, 22.0, 22.0, 22.0, 22.0, 22.0, 22.0, 22.0, 22.0, 22.0, 22.0, 22.0, 22.0, 22.0, 22.0, 22.0, 22.0, 22.0, 24.0, 24.0, 24.0, 24.0, 24.0, 24.0, 24.0, 24.0, 24.0, 24.0, 24.0, 24.0, 24.0, 24.0, 24.0, 24.0, 24.0, 24.0, 24.0, 24.0, 24.0, 24.0, 24.0, 24.0, 24.0, 24.0, 24.0, 24.0, 24.0, 24.0, 24.0, 24.0, 24.0, 24.0, 24.0, 24.0, 24.0, 24.0, 24.0, 24.0, 24.0, 26.0, 26.0, 26.0, 26.0, 26.0, 26.0, 26.0, 26.0, 26.0, 26.0, 26.0, 26.0, 26.0, 26.0, 26.0, 26.0, 26.0, 26.0]\n"
     ]
    }
   ],
   "source": [
    "def MyCreateGraphFromSparseG(G, Vertex=Vertex, Edge=Edge , Message=Message):\n",
    "    graph = createGraphFromSparseG(G, Vertex, Edge, Message)\n",
    "    graph.aggregators.append(IsUpdate(False, False))\n",
    "    return graph\n",
    "\n",
    "G = loadFileToG('cpp_GraphLite/part2-input/SSSP-graph0')\n",
    "print(len(G))\n",
    "print(G.e_count)\n",
    "\n",
    "graph = MyCreateGraphFromSparseG(G, Vertex=SSSPVertex)\n",
    "# print graph\n",
    "graph.run(verbose=False)\n",
    "print([v.value for v in graph.vertexs[0:10000: 100]])"
   ]
  },
  {
   "cell_type": "markdown",
   "metadata": {},
   "source": [
    "# 2 SimRank"
   ]
  },
  {
   "cell_type": "code",
   "execution_count": null,
   "metadata": {
    "collapsed": true
   },
   "outputs": [],
   "source": []
  }
 ],
 "metadata": {
  "kernelspec": {
   "display_name": "Python 3",
   "language": "python",
   "name": "python3"
  },
  "language_info": {
   "codemirror_mode": {
    "name": "ipython",
    "version": 3
   },
   "file_extension": ".py",
   "mimetype": "text/x-python",
   "name": "python",
   "nbconvert_exporter": "python",
   "pygments_lexer": "ipython3",
   "version": "3.5.2"
  }
 },
 "nbformat": 4,
 "nbformat_minor": 2
}
