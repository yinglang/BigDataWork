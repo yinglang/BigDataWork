{
 "cells": [
  {
   "cell_type": "markdown",
   "metadata": {},
   "source": [
    "# 1. define a graph instance"
   ]
  },
  {
   "cell_type": "code",
   "execution_count": 1,
   "metadata": {
    "ExecuteTime": {
     "end_time": "2018-06-19T13:50:20.362509Z",
     "start_time": "2018-06-19T13:50:19.508766Z"
    }
   },
   "outputs": [
    {
     "name": "stdout",
     "output_type": "stream",
     "text": [
      "IGRAPH DN-- 8 11 --\n",
      "+ attr: color (v), label (v), name (v)\n",
      "+ edges (vertex names):\n",
      "v0->v1, v0->v2, v1->v0, v2->v3, v3->v4, v4->v2, v2->v5, v5->v0, v6->v3,\n",
      "v5->v6, v7->v0\n"
     ]
    },
    {
     "data": {
      "image/svg+xml": [
       "b'<?xml version=\"1.0\" encoding=\"UTF-8\"?>\\n<svg xmlns=\"http://www.w3.org/2000/svg\" xmlns:xlink=\"http://www.w3.org/1999/xlink\" width=\"500pt\" height=\"200pt\" viewBox=\"0 0 500 200\" version=\"1.1\">\\n<defs>\\n<g>\\n<symbol overflow=\"visible\" id=\"glyph0-0\">\\n<path style=\"stroke:none;\" d=\"M 1.40625 1.6875 L 12.78125 1.6875 L 12.78125 -12.59375 L 1.203125 -12.59375 L 1.203125 1.6875 Z M 7.125 -6.125 L 2.859375 -11.625 L 11.125 -11.625 L 7 -6.296875 Z M 7.578125 -5.34375 L 12.03125 -11.078125 L 11.703125 -11.171875 L 11.703125 0.28125 L 12.03125 0.1875 L 7.640625 -5.453125 Z M 2.671875 0.953125 L 6.984375 -4.609375 L 11.125 0.71875 L 2.859375 0.71875 Z M 1.953125 -11.078125 L 6.34375 -5.453125 L 1.953125 0.1875 L 2.28125 0.28125 L 2.28125 -11.171875 Z M 1.953125 -11.078125 \"/>\\n</symbol>\\n<symbol overflow=\"visible\" id=\"glyph0-1\">\\n<path style=\"stroke:none;\" d=\"M 2.90625 0 L 4.859375 0 L 7.609375 -7.96875 L 5.765625 -7.96875 L 4.40625 -3.6875 C 4.203125 -2.921875 3.96875 -2.140625 3.78125 -1.53125 L 3.90625 -1.53125 C 3.71875 -2.140625 3.484375 -2.921875 3.28125 -3.6875 L 1.921875 -7.96875 L -0.015625 -7.96875 L 2.8125 0 Z M 2.90625 0 \"/>\\n</symbol>\\n<symbol overflow=\"visible\" id=\"glyph0-2\">\\n<path style=\"stroke:none;\" d=\"M 3.984375 0.1875 C 6 0.1875 7.453125 -1.734375 7.453125 -5.3125 C 7.453125 -8.875 6 -10.765625 3.984375 -10.765625 C 1.953125 -10.765625 0.515625 -8.890625 0.515625 -5.3125 C 0.515625 -1.734375 1.953125 0.1875 3.984375 0.1875 Z M 3.984375 -1.359375 C 2.9375 -1.359375 2.328125 -2.34375 2.328125 -5.3125 C 2.328125 -8.28125 2.9375 -9.21875 3.984375 -9.21875 C 5.046875 -9.21875 5.640625 -8.28125 5.640625 -5.3125 C 5.640625 -2.34375 5.046875 -1.359375 3.984375 -1.359375 Z M 3.984375 -1.359375 \"/>\\n</symbol>\\n<symbol overflow=\"visible\" id=\"glyph0-3\">\\n<path style=\"stroke:none;\" d=\"M 1.203125 0 L 7.203125 0 L 7.203125 -1.59375 L 5.1875 -1.59375 L 5.1875 -10.5625 L 3.8125 -10.5625 C 3.15625 -10.15625 2.578125 -9.96875 1.46875 -9.765625 L 1.46875 -8.5 L 3.3125 -8.5 L 3.3125 -1.59375 L 1.0625 -1.59375 L 1.0625 0 Z M 1.203125 0 \"/>\\n</symbol>\\n<symbol overflow=\"visible\" id=\"glyph0-4\">\\n<path style=\"stroke:none;\" d=\"M 0.609375 0 L 7.390625 0 L 7.390625 -1.640625 L 4.6875 -1.640625 C 4.1875 -1.640625 3.546875 -1.59375 3.015625 -1.546875 L 3.09375 -1.296875 C 5.28125 -3.390625 6.90625 -5.546875 6.90625 -7.53125 C 6.90625 -9.390625 5.5625 -10.765625 3.671875 -10.765625 C 2.328125 -10.765625 1.3125 -10.140625 0.34375 -9.09375 L 1.4375 -8 C 2.078125 -8.71875 2.65625 -9.21875 3.46875 -9.21875 C 4.625 -9.21875 5.078125 -8.5625 5.078125 -7.453125 C 5.078125 -5.75 3.5625 -3.84375 0.46875 -1.140625 L 0.46875 0 Z M 0.609375 0 \"/>\\n</symbol>\\n<symbol overflow=\"visible\" id=\"glyph0-5\">\\n<path style=\"stroke:none;\" d=\"M 3.75 0.1875 C 5.640625 0.1875 7.328125 -1.03125 7.328125 -2.890625 C 7.328125 -4.28125 6.265625 -5.3125 5.1875 -5.59375 L 5.1875 -5.453125 C 6.15625 -5.828125 6.96875 -6.78125 6.96875 -7.96875 C 6.96875 -9.671875 5.546875 -10.765625 3.703125 -10.765625 C 2.5 -10.765625 1.453125 -10.203125 0.546875 -9.390625 L 1.5625 -8.171875 C 2.25 -8.84375 2.84375 -9.21875 3.640625 -9.21875 C 4.625 -9.21875 5.078125 -8.765625 5.078125 -7.859375 C 5.078125 -6.8125 4.546875 -6.1875 2.375 -6.1875 L 2.375 -4.734375 C 4.84375 -4.734375 5.4375 -4.109375 5.4375 -2.96875 C 5.4375 -1.90625 4.78125 -1.40625 3.609375 -1.40625 C 2.546875 -1.40625 1.859375 -1.875 1.15625 -2.609375 L 0.203125 -1.359375 C 0.984375 -0.484375 2.125 0.1875 3.75 0.1875 Z M 3.75 0.1875 \"/>\\n</symbol>\\n<symbol overflow=\"visible\" id=\"glyph0-6\">\\n<path style=\"stroke:none;\" d=\"M 1.984375 -4.046875 L 4.015625 -7.15625 C 4.3125 -7.6875 4.640625 -8.3125 4.828125 -8.703125 L 4.65625 -8.703125 C 4.640625 -8.28125 4.59375 -7.40625 4.59375 -6.84375 L 4.59375 -4.28125 L 2.140625 -4.28125 Z M 7.5625 -4.28125 L 6.375 -4.28125 L 6.375 -10.5625 L 4.296875 -10.5625 L 0.140625 -4.015625 L 0.140625 -2.765625 L 4.59375 -2.765625 L 4.59375 0 L 6.375 0 L 6.375 -2.765625 L 7.6875 -2.765625 L 7.6875 -4.28125 Z M 7.5625 -4.28125 \"/>\\n</symbol>\\n<symbol overflow=\"visible\" id=\"glyph0-7\">\\n<path style=\"stroke:none;\" d=\"M 3.75 0.1875 C 5.5625 0.1875 7.34375 -1.234375 7.34375 -3.515625 C 7.34375 -5.765625 5.8125 -6.9375 4.09375 -6.9375 C 3.53125 -6.9375 3.015625 -6.75 2.828125 -6.65625 L 3.03125 -8.953125 L 6.859375 -8.953125 L 6.859375 -10.5625 L 1.375 -10.5625 L 1.046875 -5.484375 L 1.96875 -4.875 C 2.671875 -5.3125 2.984375 -5.484375 3.640625 -5.484375 C 4.8125 -5.484375 5.453125 -4.828125 5.453125 -3.453125 C 5.453125 -2.09375 4.71875 -1.40625 3.5625 -1.40625 C 2.484375 -1.40625 1.8125 -1.875 1.125 -2.578125 L 0.203125 -1.296875 C 1.015625 -0.5 2.125 0.1875 3.75 0.1875 Z M 3.75 0.1875 \"/>\\n</symbol>\\n<symbol overflow=\"visible\" id=\"glyph0-8\">\\n<path style=\"stroke:none;\" d=\"M 4.28125 -1.3125 C 3.171875 -1.3125 2.5625 -2.140625 2.40625 -4.15625 C 2.96875 -4.96875 3.578125 -5.265625 4.1875 -5.265625 C 5.296875 -5.265625 5.734375 -4.640625 5.734375 -3.3125 C 5.734375 -1.984375 5.1875 -1.3125 4.28125 -1.3125 Z M 7.296875 -9.625 C 6.703125 -10.234375 5.78125 -10.765625 4.640625 -10.765625 C 2.609375 -10.765625 0.609375 -9.046875 0.609375 -5.078125 C 0.609375 -1.578125 2.34375 0.1875 4.296875 0.1875 C 5.984375 0.1875 7.5 -1.28125 7.5 -3.3125 C 7.5 -5.5 6.21875 -6.703125 4.484375 -6.703125 C 3.734375 -6.703125 2.75 -6.21875 2.140625 -5.46875 L 2.359375 -5.375 C 2.4375 -8.3125 3.40625 -9.1875 4.71875 -9.1875 C 5.3125 -9.1875 5.859375 -8.890625 6.3125 -8.34375 L 7.390625 -9.53125 Z M 7.296875 -9.625 \"/>\\n</symbol>\\n<symbol overflow=\"visible\" id=\"glyph0-9\">\\n<path style=\"stroke:none;\" d=\"M 2.703125 0 L 4.484375 0 C 4.640625 -4.15625 4.984375 -6.328125 7.453125 -9.40625 L 7.453125 -10.5625 L 0.546875 -10.5625 L 0.546875 -8.953125 L 5.265625 -8.953125 C 3.4375 -6.390625 2.75 -3.890625 2.546875 0 Z M 2.703125 0 \"/>\\n</symbol>\\n</g>\\n</defs>\\n<g id=\"surface2\">\\n<rect x=\"0\" y=\"0\" width=\"500\" height=\"200\" style=\"fill:rgb(100%,100%,100%);fill-opacity:1;stroke:none;\"/>\\n<path style=\"fill:none;stroke-width:1;stroke-linecap:butt;stroke-linejoin:miter;stroke:rgb(26.666667%,26.666667%,26.666667%);stroke-opacity:1;stroke-miterlimit:10;\" d=\"M 167.761719 87.492188 C 118.464844 61.351562 70.980469 65.472656 35.46875 108.285156 \"/>\\n<path style=\" stroke:none;fill-rule:nonzero;fill:rgb(26.666667%,26.666667%,26.666667%);fill-opacity:1;\" d=\"M 26.363281 119.265625 L 31.902344 105.328125 L 39.039062 111.246094 L 26.363281 119.265625 \"/>\\n<path style=\"fill:none;stroke-width:1;stroke-linecap:butt;stroke-linejoin:miter;stroke:rgb(26.666667%,26.666667%,26.666667%);stroke-opacity:1;stroke-miterlimit:10;\" d=\"M 167.761719 87.492188 L 305.699219 79.929688 \"/>\\n<path style=\" stroke:none;fill-rule:nonzero;fill:rgb(26.666667%,26.666667%,26.666667%);fill-opacity:1;\" d=\"M 319.945312 79.148438 L 305.953125 84.554688 L 305.445312 75.300781 L 319.945312 79.148438 \"/>\\n<path style=\"fill:none;stroke-width:1;stroke-linecap:butt;stroke-linejoin:miter;stroke:rgb(26.666667%,26.666667%,26.666667%);stroke-opacity:1;stroke-miterlimit:10;\" d=\"M 20 126.9375 C 69.296875 153.078125 116.78125 148.957031 152.292969 106.144531 \"/>\\n<path style=\" stroke:none;fill-rule:nonzero;fill:rgb(26.666667%,26.666667%,26.666667%);fill-opacity:1;\" d=\"M 161.398438 95.164062 L 155.859375 109.101562 L 148.722656 103.183594 L 161.398438 95.164062 \"/>\\n<path style=\"fill:none;stroke-width:1;stroke-linecap:butt;stroke-linejoin:miter;stroke:rgb(26.666667%,26.666667%,26.666667%);stroke-opacity:1;stroke-miterlimit:10;\" d=\"M 329.929688 78.597656 L 456.328125 107.113281 \"/>\\n<path style=\" stroke:none;fill-rule:nonzero;fill:rgb(26.666667%,26.666667%,26.666667%);fill-opacity:1;\" d=\"M 470.246094 110.253906 L 455.308594 111.636719 L 457.347656 102.59375 L 470.246094 110.253906 \"/>\\n<path style=\"fill:none;stroke-width:1;stroke-linecap:butt;stroke-linejoin:miter;stroke:rgb(26.666667%,26.666667%,26.666667%);stroke-opacity:1;stroke-miterlimit:10;\" d=\"M 480 112.453125 L 472.339844 68.132812 \"/>\\n<path style=\" stroke:none;fill-rule:nonzero;fill:rgb(26.666667%,26.666667%,26.666667%);fill-opacity:1;\" d=\"M 469.910156 54.078125 L 476.90625 67.34375 L 467.773438 68.921875 L 469.910156 54.078125 \"/>\\n<path style=\"fill:none;stroke-width:1;stroke-linecap:butt;stroke-linejoin:miter;stroke:rgb(26.666667%,26.666667%,26.666667%);stroke-opacity:1;stroke-miterlimit:10;\" d=\"M 468.207031 44.222656 L 353.476562 72.746094 \"/>\\n<path style=\" stroke:none;fill-rule:nonzero;fill:rgb(26.666667%,26.666667%,26.666667%);fill-opacity:1;\" d=\"M 339.632812 76.1875 L 352.359375 68.246094 L 354.597656 77.242188 L 339.632812 76.1875 \"/>\\n<path style=\"fill:none;stroke-width:1;stroke-linecap:butt;stroke-linejoin:miter;stroke:rgb(26.666667%,26.666667%,26.666667%);stroke-opacity:1;stroke-miterlimit:10;\" d=\"M 329.929688 78.597656 L 283.183594 127.144531 \"/>\\n<path style=\" stroke:none;fill-rule:nonzero;fill:rgb(26.666667%,26.666667%,26.666667%);fill-opacity:1;\" d=\"M 273.289062 137.421875 L 279.84375 123.929688 L 286.523438 130.359375 L 273.289062 137.421875 \"/>\\n<path style=\"fill:none;stroke-width:1;stroke-linecap:butt;stroke-linejoin:miter;stroke:rgb(26.666667%,26.666667%,26.666667%);stroke-opacity:1;stroke-miterlimit:10;\" d=\"M 266.351562 144.625 L 188.757812 99.660156 \"/>\\n<path style=\" stroke:none;fill-rule:nonzero;fill:rgb(26.666667%,26.666667%,26.666667%);fill-opacity:1;\" d=\"M 176.414062 92.507812 L 191.082031 95.648438 L 186.433594 103.671875 L 176.414062 92.507812 \"/>\\n<path style=\"fill:none;stroke-width:1;stroke-linecap:butt;stroke-linejoin:miter;stroke:rgb(26.666667%,26.666667%,26.666667%);stroke-opacity:1;stroke-miterlimit:10;\" d=\"M 412.703125 180 L 462.871094 129.644531 \"/>\\n<path style=\" stroke:none;fill-rule:nonzero;fill:rgb(26.666667%,26.666667%,26.666667%);fill-opacity:1;\" d=\"M 472.941406 119.539062 L 466.15625 132.914062 L 459.589844 126.371094 L 472.941406 119.539062 \"/>\\n<path style=\"fill:none;stroke-width:1;stroke-linecap:butt;stroke-linejoin:miter;stroke:rgb(26.666667%,26.666667%,26.666667%);stroke-opacity:1;stroke-miterlimit:10;\" d=\"M 266.351562 144.625 L 389.113281 174.300781 \"/>\\n<path style=\" stroke:none;fill-rule:nonzero;fill:rgb(26.666667%,26.666667%,26.666667%);fill-opacity:1;\" d=\"M 402.980469 177.652344 L 388.027344 178.804688 L 390.203125 169.792969 L 402.980469 177.652344 \"/>\\n<path style=\"fill:none;stroke-width:1;stroke-linecap:butt;stroke-linejoin:miter;stroke:rgb(26.666667%,26.666667%,26.666667%);stroke-opacity:1;stroke-miterlimit:10;\" d=\"M 86.300781 20 L 149.074219 72.011719 \"/>\\n<path style=\" stroke:none;fill-rule:nonzero;fill:rgb(26.666667%,26.666667%,26.666667%);fill-opacity:1;\" d=\"M 160.0625 81.113281 L 146.117188 75.582031 L 152.03125 68.441406 L 160.0625 81.113281 \"/>\\n<path style=\"fill-rule:nonzero;fill:rgb(100%,75.294118%,79.607843%);fill-opacity:1;stroke-width:1;stroke-linecap:butt;stroke-linejoin:miter;stroke:rgb(0%,0%,0%);stroke-opacity:1;stroke-miterlimit:10;\" d=\"M 177.761719 87.492188 C 177.761719 93.015625 173.285156 97.492188 167.761719 97.492188 C 162.238281 97.492188 157.761719 93.015625 157.761719 87.492188 C 157.761719 81.96875 162.238281 77.492188 167.761719 77.492188 C 173.285156 77.492188 177.761719 81.96875 177.761719 87.492188 \"/>\\n<path style=\"fill-rule:nonzero;fill:rgb(100%,75.294118%,79.607843%);fill-opacity:1;stroke-width:1;stroke-linecap:butt;stroke-linejoin:miter;stroke:rgb(0%,0%,0%);stroke-opacity:1;stroke-miterlimit:10;\" d=\"M 30 126.9375 C 30 132.460938 25.523438 136.9375 20 136.9375 C 14.476562 136.9375 10 132.460938 10 126.9375 C 10 121.414062 14.476562 116.9375 20 116.9375 C 25.523438 116.9375 30 121.414062 30 126.9375 \"/>\\n<path style=\"fill-rule:nonzero;fill:rgb(100%,75.294118%,79.607843%);fill-opacity:1;stroke-width:1;stroke-linecap:butt;stroke-linejoin:miter;stroke:rgb(0%,0%,0%);stroke-opacity:1;stroke-miterlimit:10;\" d=\"M 339.929688 78.597656 C 339.929688 84.121094 335.453125 88.597656 329.929688 88.597656 C 324.40625 88.597656 319.929688 84.121094 319.929688 78.597656 C 319.929688 73.078125 324.40625 68.597656 329.929688 68.597656 C 335.453125 68.597656 339.929688 73.078125 339.929688 78.597656 \"/>\\n<path style=\"fill-rule:nonzero;fill:rgb(100%,75.294118%,79.607843%);fill-opacity:1;stroke-width:1;stroke-linecap:butt;stroke-linejoin:miter;stroke:rgb(0%,0%,0%);stroke-opacity:1;stroke-miterlimit:10;\" d=\"M 490 112.453125 C 490 117.976562 485.523438 122.453125 480 122.453125 C 474.476562 122.453125 470 117.976562 470 112.453125 C 470 106.929688 474.476562 102.453125 480 102.453125 C 485.523438 102.453125 490 106.929688 490 112.453125 \"/>\\n<path style=\"fill-rule:nonzero;fill:rgb(100%,75.294118%,79.607843%);fill-opacity:1;stroke-width:1;stroke-linecap:butt;stroke-linejoin:miter;stroke:rgb(0%,0%,0%);stroke-opacity:1;stroke-miterlimit:10;\" d=\"M 478.207031 44.222656 C 478.207031 49.746094 473.730469 54.222656 468.207031 54.222656 C 462.683594 54.222656 458.207031 49.746094 458.207031 44.222656 C 458.207031 38.699219 462.683594 34.222656 468.207031 34.222656 C 473.730469 34.222656 478.207031 38.699219 478.207031 44.222656 \"/>\\n<path style=\"fill-rule:nonzero;fill:rgb(100%,75.294118%,79.607843%);fill-opacity:1;stroke-width:1;stroke-linecap:butt;stroke-linejoin:miter;stroke:rgb(0%,0%,0%);stroke-opacity:1;stroke-miterlimit:10;\" d=\"M 276.351562 144.625 C 276.351562 150.148438 271.875 154.625 266.351562 154.625 C 260.828125 154.625 256.351562 150.148438 256.351562 144.625 C 256.351562 139.101562 260.828125 134.625 266.351562 134.625 C 271.875 134.625 276.351562 139.101562 276.351562 144.625 \"/>\\n<path style=\"fill-rule:nonzero;fill:rgb(100%,75.294118%,79.607843%);fill-opacity:1;stroke-width:1;stroke-linecap:butt;stroke-linejoin:miter;stroke:rgb(0%,0%,0%);stroke-opacity:1;stroke-miterlimit:10;\" d=\"M 422.703125 180 C 422.703125 185.523438 418.222656 190 412.703125 190 C 407.179688 190 402.703125 185.523438 402.703125 180 C 402.703125 174.476562 407.179688 170 412.703125 170 C 418.222656 170 422.703125 174.476562 422.703125 180 \"/>\\n<path style=\"fill-rule:nonzero;fill:rgb(100%,75.294118%,79.607843%);fill-opacity:1;stroke-width:1;stroke-linecap:butt;stroke-linejoin:miter;stroke:rgb(0%,0%,0%);stroke-opacity:1;stroke-miterlimit:10;\" d=\"M 96.300781 20 C 96.300781 25.523438 91.824219 30 86.300781 30 C 80.777344 30 76.300781 25.523438 76.300781 20 C 76.300781 14.476562 80.777344 10 86.300781 10 C 91.824219 10 96.300781 14.476562 96.300781 20 \"/>\\n<g style=\"fill:rgb(0%,0%,0%);fill-opacity:1;\">\\n  <use xlink:href=\"#glyph0-1\" x=\"160.226562\" y=\"95.117188\"/>\\n  <use xlink:href=\"#glyph0-2\" x=\"167.856537\" y=\"95.117188\"/>\\n</g>\\n<g style=\"fill:rgb(0%,0%,0%);fill-opacity:1;\">\\n  <use xlink:href=\"#glyph0-1\" x=\"12.589844\" y=\"134.457031\"/>\\n  <use xlink:href=\"#glyph0-3\" x=\"20.219818\" y=\"134.457031\"/>\\n</g>\\n<g style=\"fill:rgb(0%,0%,0%);fill-opacity:1;\">\\n  <use xlink:href=\"#glyph0-1\" x=\"322.425781\" y=\"86.222656\"/>\\n  <use xlink:href=\"#glyph0-4\" x=\"330.055756\" y=\"86.222656\"/>\\n</g>\\n<g style=\"fill:rgb(0%,0%,0%);fill-opacity:1;\">\\n  <use xlink:href=\"#glyph0-1\" x=\"472.527344\" y=\"120.078125\"/>\\n  <use xlink:href=\"#glyph0-5\" x=\"480.157318\" y=\"120.078125\"/>\\n</g>\\n<g style=\"fill:rgb(0%,0%,0%);fill-opacity:1;\">\\n  <use xlink:href=\"#glyph0-1\" x=\"460.554688\" y=\"51.746094\"/>\\n  <use xlink:href=\"#glyph0-6\" x=\"468.184662\" y=\"51.746094\"/>\\n</g>\\n<g style=\"fill:rgb(0%,0%,0%);fill-opacity:1;\">\\n  <use xlink:href=\"#glyph0-1\" x=\"258.871094\" y=\"152.148438\"/>\\n  <use xlink:href=\"#glyph0-7\" x=\"266.501068\" y=\"152.148438\"/>\\n</g>\\n<g style=\"fill:rgb(0%,0%,0%);fill-opacity:1;\">\\n  <use xlink:href=\"#glyph0-1\" x=\"405.144531\" y=\"187.621094\"/>\\n  <use xlink:href=\"#glyph0-8\" x=\"412.774506\" y=\"187.621094\"/>\\n</g>\\n<g style=\"fill:rgb(0%,0%,0%);fill-opacity:1;\">\\n  <use xlink:href=\"#glyph0-1\" x=\"78.765625\" y=\"27.519531\"/>\\n  <use xlink:href=\"#glyph0-9\" x=\"86.395599\" y=\"27.519531\"/>\\n</g>\\n</g>\\n</svg>\\n'"
      ],
      "text/plain": [
       "<igraph.drawing.Plot at 0x7faec802d5c0>"
      ]
     },
     "execution_count": 1,
     "metadata": {},
     "output_type": "execute_result"
    }
   ],
   "source": [
    "import numpy as np\n",
    "import igraph\n",
    "EPS=1e-6\n",
    "\n",
    "def to_igraph(G):\n",
    "    G = igraph.Graph(list(G), directed=True)\n",
    "    G.degree(mode='in')\n",
    "    for v in G.vs:\n",
    "        v['name'] = v['label'] = 'v' + str(v.index)\n",
    "        v['color'] = 'pink'\n",
    "    return G\n",
    "\n",
    "N, M = 8, 11\n",
    "G = np.array([(0,1), (0,2), (1, 0), (2,3), (3,4), (4,2), (2,5), (5,0), (6,3), (5,6), (7, 0)])\n",
    "iG = to_igraph(G)\n",
    "print(iG)\n",
    "igraph.plot(iG, layout=iG.layout('kk'), bbox=(0, 0, 500, 200))"
   ]
  },
  {
   "cell_type": "code",
   "execution_count": 2,
   "metadata": {
    "ExecuteTime": {
     "end_time": "2018-06-19T13:50:20.367886Z",
     "start_time": "2018-06-19T13:50:20.364143Z"
    }
   },
   "outputs": [
    {
     "name": "stdout",
     "output_type": "stream",
     "text": [
      "[[1, 5, 7], [0], [0, 4], [2, 6], [3], [2], [5], []]\n"
     ]
    }
   ],
   "source": [
    "# think graph have no island vertex, if have we move it out first, cause it have 0 similiar with any other point\n",
    "def to_indegree_graph(G, n):\n",
    "    in_G = [None] * n\n",
    "    for i in range(n): in_G[i] = []\n",
    "        \n",
    "    for e in G:\n",
    "        in_G[e[1]].append(e[0])\n",
    "    return in_G\n",
    "\n",
    "in_G = to_indegree_graph(G, N)\n",
    "print(in_G)"
   ]
  },
  {
   "cell_type": "markdown",
   "metadata": {},
   "source": [
    "# 2. simrank"
   ]
  },
  {
   "cell_type": "markdown",
   "metadata": {},
   "source": [
    "## 2.1 simrank 定义\n",
    "![](../_image/bigdata_3simrank1.png)"
   ]
  },
  {
   "cell_type": "markdown",
   "metadata": {},
   "source": [
    "### 2.1.1 dense matrix implement"
   ]
  },
  {
   "cell_type": "code",
   "execution_count": 3,
   "metadata": {
    "ExecuteTime": {
     "end_time": "2018-06-19T13:50:21.380922Z",
     "start_time": "2018-06-19T13:50:21.348251Z"
    }
   },
   "outputs": [
    {
     "name": "stdout",
     "output_type": "stream",
     "text": [
      "34\n",
      "[[1.    0.049 0.05  0.087 0.152 0.135 0.277 0.   ]\n",
      " [0.049 1.    0.461 0.131 0.069 0.04  0.108 0.   ]\n",
      " [0.05  0.461 1.    0.149 0.064 0.045 0.102 0.   ]\n",
      " [0.087 0.131 0.149 1.    0.073 0.441 0.033 0.   ]\n",
      " [0.152 0.069 0.064 0.073 1.    0.119 0.353 0.   ]\n",
      " [0.135 0.04  0.045 0.441 0.119 1.    0.036 0.   ]\n",
      " [0.277 0.108 0.102 0.033 0.353 0.036 1.    0.   ]\n",
      " [0.    0.    0.    0.    0.    0.    0.    1.   ]]\n"
     ]
    }
   ],
   "source": [
    "def cal_similar(S, C, Ia, Ib):\n",
    "    if len(Ia) == 0 or len(Ib) == 0: return 0\n",
    "    k = 1.0 * C / len(Ia) / len(Ib)\n",
    "    s = 0\n",
    "    for i in range(len(Ia)):\n",
    "        for j in range(len(Ib)):\n",
    "            s += S[Ia[i], Ib[j]] * k\n",
    "    return s\n",
    "\n",
    "def cal_S(in_G, max_iters=100, C=0.6, M_type=np.eye):\n",
    "    update = 1\n",
    "    iters = 0\n",
    "    N = len(in_G)\n",
    "    S = M_type(N)\n",
    "    oldS = M_type(N)\n",
    "    \n",
    "    while update > EPS and iters < max_iters:\n",
    "        update = 0.\n",
    "        for a in range(N-1):\n",
    "            for b in range(a+1, N):\n",
    "                S[b, a] = S[a, b] = cal_similar(oldS, C, in_G[a], in_G[b])\n",
    "                update += abs(S[a, b] - oldS[a, b])\n",
    "        iters += 1\n",
    "        oldS[:, :] = S\n",
    "    return S, iters\n",
    "\n",
    "S, iters = cal_S(in_G, 100, 0.8)\n",
    "print(iters)\n",
    "print(np.round(S, 3))"
   ]
  },
  {
   "cell_type": "markdown",
   "metadata": {},
   "source": [
    "### 2.1.2 sparse matrix implement"
   ]
  },
  {
   "cell_type": "code",
   "execution_count": 10,
   "metadata": {
    "ExecuteTime": {
     "end_time": "2018-06-18T02:18:19.851420Z",
     "start_time": "2018-06-18T02:18:19.838460Z"
    }
   },
   "outputs": [
    {
     "name": "stdout",
     "output_type": "stream",
     "text": [
      "13\n",
      "[[1.    0.017 0.014 0.038 0.075 0.066 0.202 0.   ]\n",
      " [0.017 1.    0.322 0.065 0.023 0.009 0.04  0.   ]\n",
      " [0.014 0.322 1.    0.063 0.017 0.01  0.031 0.   ]\n",
      " [0.038 0.065 0.063 1.    0.02  0.309 0.005 0.   ]\n",
      " [0.075 0.023 0.017 0.02  1.    0.038 0.186 0.   ]\n",
      " [0.066 0.009 0.01  0.309 0.038 1.    0.006 0.   ]\n",
      " [0.202 0.04  0.031 0.005 0.186 0.006 1.    0.   ]\n",
      " [0.    0.    0.    0.    0.    0.    0.    1.   ]]\n",
      "13\n",
      "[[1.    0.017 0.014 0.038 0.075 0.066 0.202 0.   ]\n",
      " [0.017 1.    0.322 0.065 0.023 0.009 0.04  0.   ]\n",
      " [0.014 0.322 1.    0.063 0.017 0.01  0.031 0.   ]\n",
      " [0.038 0.065 0.063 1.    0.02  0.309 0.005 0.   ]\n",
      " [0.075 0.023 0.017 0.02  1.    0.038 0.186 0.   ]\n",
      " [0.066 0.009 0.01  0.309 0.038 1.    0.006 0.   ]\n",
      " [0.202 0.04  0.031 0.005 0.186 0.006 1.    0.   ]\n",
      " [0.    0.    0.    0.    0.    0.    0.    1.   ]]\n"
     ]
    }
   ],
   "source": [
    "class SparseMatrix:\n",
    "    def __init__(self, num_vertex):\n",
    "        self._dict = {}\n",
    "        for vid in range(num_vertex):\n",
    "            self._dict[(vid, vid)] = 1.0\n",
    "        self.num_vertex = num_vertex\n",
    "    \n",
    "    def __getitem__(self, idx):\n",
    "        if idx in self._dict:\n",
    "            return self._dict[idx]\n",
    "        else:\n",
    "            return 0\n",
    "    \n",
    "    def __setitem__(self, idx, v):\n",
    "        self._dict[idx] = v\n",
    "        \n",
    "    def __str__(self):\n",
    "        S = np.eye(self.num_vertex)\n",
    "        for key in self._dict:\n",
    "            S[key] = self._dict[key]\n",
    "        return str(np.round(S, 3))\n",
    "    \n",
    "    def __iadd__(self, S):\n",
    "        for key in set(self._dict.keys()) | set(S._dict.keys()):\n",
    "            self[key] = self[key] + S[key]\n",
    "        return self\n",
    "    \n",
    "    def __isub__(self, S):\n",
    "        for key in set(self._dict.keys()) | set(S._dict.keys()):\n",
    "            self[key] = self[key] - S[key]\n",
    "        return self\n",
    "    \n",
    "    def __itruediv__(self, v):\n",
    "        for key in set(self._dict.keys()) | set(S._dict.keys()):\n",
    "            self[key] = self[key] / v\n",
    "        return self\n",
    "    \n",
    "    def __truediv__(self, v):\n",
    "        S = SparseMatrix(self.num_vertex)\n",
    "        for key in set(self._dict.keys()) | set(S._dict.keys()):\n",
    "            S[key] = self[key] / v\n",
    "        return S\n",
    "    \n",
    "    @classmethod\n",
    "    def abs_sum(cls, self):\n",
    "        s = 0\n",
    "        for key, value in self._dict.items():\n",
    "            s += abs(value)\n",
    "        return s\n",
    "    \n",
    "S = SparseMatrix(10)  \n",
    "\n",
    "S, iters = cal_S(in_G, 100, 0.6, np.eye)\n",
    "print(iters)\n",
    "print(np.round(S, 3))\n",
    "\n",
    "S, iters = cal_S(in_G, 100, 0.6, SparseMatrix)\n",
    "print(iters)\n",
    "print(S)"
   ]
  },
  {
   "cell_type": "markdown",
   "metadata": {},
   "source": [
    "## 2.2 Monte Calor"
   ]
  },
  {
   "cell_type": "code",
   "execution_count": null,
   "metadata": {},
   "outputs": [],
   "source": [
    "from random import random\n",
    "EPS = 1e-6\n",
    "\n",
    "def abs_sum(S):\n",
    "    return np.sum(np.abs(S))\n",
    "\n",
    "def MonteCarla(in_graph, K, L, C, stdS=None, M_type=np.eye, abs_sum=abs_sum):\n",
    "    def random_choose_next_path(i):\n",
    "        if len(in_graph[i]) == 0: return -1;\n",
    "        j = int(random() * len (in_graph[i]))\n",
    "        return in_graph[i][j]\n",
    "    \n",
    "    def cal_similar():   \n",
    "        S = M_type(len(in_graph))\n",
    "        meet_nodes = [[i] for i in range(len(in_graph))]\n",
    "        for l in range(L):\n",
    "            # all walker move one step\n",
    "            new_meet_nodes = [[] for i in range(len(in_graph))]\n",
    "            for cur_node, nodes in enumerate(meet_nodes):\n",
    "                for node in nodes:\n",
    "                    j = random_choose_next_path(cur_node)\n",
    "                    if j >= 0:\n",
    "                        new_meet_nodes[j].append(node)\n",
    "            meet_nodes = new_meet_nodes\n",
    "\n",
    "            # cal similar\n",
    "            for cur_node, nodes in enumerate(meet_nodes):\n",
    "                for i in range(len(nodes)-1):\n",
    "                    for j in range(i+1, len(nodes)):\n",
    "                        node_i, node_j = nodes[i], nodes[j]\n",
    "                        if S[node_i, node_j] <= EPS:\n",
    "                            S[node_j, node_i] = S[node_i, node_j] = C ** (l+1)\n",
    "        return S\n",
    "    \n",
    "    if stdS is not None: res = []\n",
    "    N = len(in_graph)\n",
    "    S = M_type(N)\n",
    "    S -= M_type(N)\n",
    "    for k in range(K):\n",
    "        S += cal_similar()\n",
    "        if stdS is not None:\n",
    "            SS = S / (k+1)\n",
    "            SS -= stdS\n",
    "            res.append(abs_sum(SS))\n",
    "    S /= K\n",
    "    return S, res\n",
    " \n",
    "stdS, iters = cal_S(in_G, 100, 0.6)\n",
    "S, res = MonteCarla(in_G, 200, 6, 0.6, stdS)\n",
    "print(S)\n",
    "import matplotlib.pyplot as plt\n",
    "plt.plot(range(40, len(res)), res[40:])\n",
    "plt.show()"
   ]
  },
  {
   "cell_type": "code",
   "execution_count": 11,
   "metadata": {
    "ExecuteTime": {
     "end_time": "2018-06-18T02:18:20.601472Z",
     "start_time": "2018-06-18T02:18:20.454602Z"
    }
   },
   "outputs": [
    {
     "name": "stdout",
     "output_type": "stream",
     "text": [
      "[[1.    0.014 0.015 0.04  0.068 0.061 0.203 0.   ]\n",
      " [0.014 1.    0.336 0.051 0.021 0.005 0.046 0.   ]\n",
      " [0.015 0.336 1.    0.052 0.013 0.011 0.034 0.   ]\n",
      " [0.04  0.051 0.052 1.    0.022 0.331 0.003 0.   ]\n",
      " [0.068 0.021 0.013 0.022 1.    0.04  0.176 0.   ]\n",
      " [0.061 0.005 0.011 0.331 0.04  1.    0.005 0.   ]\n",
      " [0.203 0.046 0.034 0.003 0.176 0.005 1.    0.   ]\n",
      " [0.    0.    0.    0.    0.    0.    0.    1.   ]]\n"
     ]
    },
    {
     "data": {
      "image/png": "[encoded data removed]",
      "text/plain": [
       "<Figure size 432x288 with 1 Axes>"
      ]
     },
     "metadata": {},
     "output_type": "display_data"
    }
   ],
   "source": [
    "stdS, iters = cal_S(in_G, 100, 0.6, SparseMatrix)\n",
    "S, res = MonteCarla(in_G, 200, 6, 0.6, stdS, SparseMatrix, SparseMatrix.abs_sum)\n",
    "print(S)\n",
    "import matplotlib.pyplot as plt\n",
    "plt.plot(range(40, len(res)), res[40:])\n",
    "plt.show()"
   ]
  },
  {
   "cell_type": "markdown",
   "metadata": {},
   "source": [
    "## 2.3 naive simrank\n",
    "迭代公式\n",
    "![](../_image/bigdata_3simrank2.png)\n",
    "S是相似度矩阵。Q是转移概率矩阵，它的每一列和为1，如果从节点i可以转移到节点j，并且这样的节点i一共有n个，则Qi,j=1n</br>\n",
    "\n",
    "收敛速度\n",
    "![](../_image/bigdata_3simrank3.png)"
   ]
  },
  {
   "cell_type": "code",
   "execution_count": 77,
   "metadata": {
    "ExecuteTime": {
     "end_time": "2018-06-18T02:57:07.577983Z",
     "start_time": "2018-06-18T02:57:07.570876Z"
    }
   },
   "outputs": [],
   "source": [
    "def create_Q(in_G):\n",
    "    N = len(in_G)\n",
    "    Q = np.zeros(shape=(N, N))\n",
    "    for j, i_set in enumerate(in_G):\n",
    "        if len(i_set) > 0:\n",
    "            Q[i_set, j] = 1.0 / len(i_set)\n",
    "        else:\n",
    "            Q[j, j] = 0\n",
    "    return np.mat(Q)\n",
    "\n",
    "def cal_naive_simrank(in_G, K, C=0.6, res=None):\n",
    "    N = len(in_G)\n",
    "    S = np.mat((1-C) * np.eye(N))\n",
    "    Q = create_Q(in_G)\n",
    "    res = []\n",
    "    for k in range(K):\n",
    "        temp = C * Q.T * S * Q + np.mat((1-C)*np.eye(N))\n",
    "        res.append(np.sum(np.abs(S-temp)))\n",
    "        S = temp\n",
    "        if res[-1] <= EPS:\n",
    "            return S, res\n",
    "    return S, res"
   ]
  },
  {
   "cell_type": "code",
   "execution_count": 78,
   "metadata": {
    "ExecuteTime": {
     "end_time": "2018-06-18T02:57:07.893109Z",
     "start_time": "2018-06-18T02:57:07.804910Z"
    }
   },
   "outputs": [
    {
     "name": "stdout",
     "output_type": "stream",
     "text": [
      "[[0.306 0.016 0.018 0.028 0.063 0.044 0.141 0.   ]\n",
      " [0.016 0.444 0.147 0.063 0.023 0.014 0.035 0.   ]\n",
      " [0.018 0.147 0.393 0.064 0.023 0.016 0.038 0.   ]\n",
      " [0.028 0.063 0.064 0.416 0.03  0.172 0.012 0.   ]\n",
      " [0.063 0.023 0.023 0.03  0.533 0.051 0.138 0.   ]\n",
      " [0.044 0.014 0.016 0.172 0.051 0.514 0.013 0.   ]\n",
      " [0.141 0.035 0.038 0.012 0.138 0.013 0.611 0.   ]\n",
      " [0.    0.    0.    0.    0.    0.    0.    0.2  ]]\n"
     ]
    },
    {
     "data": {
      "image/png": "[encoded data removed]",
      "text/plain": [
       "<Figure size 432x288 with 1 Axes>"
      ]
     },
     "metadata": {},
     "output_type": "display_data"
    }
   ],
   "source": [
    "S , res = cal_naive_simrank(in_G, 100, 0.8)\n",
    "plt.plot(range(10, len(res)), res[10: ])\n",
    "print(np.round(S, 3))"
   ]
  },
  {
   "cell_type": "code",
   "execution_count": 4,
   "metadata": {
    "ExecuteTime": {
     "end_time": "2018-06-19T03:00:27.149733Z",
     "start_time": "2018-06-19T03:00:27.146807Z"
    }
   },
   "outputs": [
    {
     "name": "stdout",
     "output_type": "stream",
     "text": [
      "[[1.       0.       0.       ... 0.       0.       0.      ]\n",
      " [0.       1.       0.792    ... 0.       0.       0.      ]\n",
      " [0.       0.       1.       ... 0.       0.       0.      ]\n",
      " ...\n",
      " [0.       0.       0.       ... 1.       0.24727  0.145408]\n",
      " [0.       0.       0.       ... 0.       1.       0.226189]\n",
      " [0.       0.       0.       ... 0.       0.       1.      ]]\n"
     ]
    }
   ],
   "source": [
    "print(S)"
   ]
  },
  {
   "cell_type": "markdown",
   "metadata": {},
   "source": [
    "# 3 test big data"
   ]
  },
  {
   "cell_type": "code",
   "execution_count": 7,
   "metadata": {
    "ExecuteTime": {
     "end_time": "2018-06-17T17:29:53.066082Z",
     "start_time": "2018-06-17T17:29:53.054187Z"
    }
   },
   "outputs": [
    {
     "name": "stdout",
     "output_type": "stream",
     "text": [
      "[[1, 5, 7], [0], [0, 4], [2, 6], [3], [2], [5], []]\n"
     ]
    }
   ],
   "source": [
    "def load_in_Graph(path):\n",
    "    f = open(path)\n",
    "    lines = f.readlines()\n",
    "    f.close()\n",
    "    for i, line in enumerate(lines):\n",
    "        if i == 0: \n",
    "            num_v = int(line[:-1])\n",
    "            in_G = [[] for i in range(num_v)]\n",
    "        elif i == 1: num_e = int(line[:-1])\n",
    "        else:\n",
    "            substrs = line.split(\" \")\n",
    "            if len(substrs) < 2: continue\n",
    "            s, t = int(substrs[0]), int(substrs[1])\n",
    "            in_G[t].append(s)\n",
    "    return in_G\n",
    "in_G = load_in_Graph(\"/home/hui/github/BigDataWork/bigwork/SimRank/Input/testgraph\")\n",
    "print(in_G)"
   ]
  },
  {
   "cell_type": "code",
   "execution_count": 24,
   "metadata": {
    "ExecuteTime": {
     "end_time": "2018-06-18T02:16:06.330090Z",
     "start_time": "2018-06-18T02:16:06.260106Z"
    }
   },
   "outputs": [],
   "source": [
    "in_G = load_in_Graph(\"/home/hui/github/BigDataWork/bigwork/SimRank/Input/facebookcombined\")\n",
    "from functools import reduce\n",
    "num_e = reduce(lambda x, y: len(x) + len(y) if isinstance(x, list) else x + len(y), in_G)"
   ]
  },
  {
   "cell_type": "code",
   "execution_count": 9,
   "metadata": {
    "ExecuteTime": {
     "end_time": "2018-06-17T18:24:42.563073Z",
     "start_time": "2018-06-17T17:29:54.926706Z"
    }
   },
   "outputs": [
    {
     "name": "stdout",
     "output_type": "stream",
     "text": [
      "2\n",
      "[[1.    0.    0.    ... 0.    0.    0.   ]\n",
      " [0.    1.    0.6   ... 0.    0.    0.   ]\n",
      " [0.    0.6   1.    ... 0.    0.    0.   ]\n",
      " ...\n",
      " [0.    0.    0.    ... 1.    0.119 0.077]\n",
      " [0.    0.    0.    ... 0.119 1.    0.103]\n",
      " [0.    0.    0.    ... 0.077 0.103 1.   ]]\n"
     ]
    }
   ],
   "source": [
    "S, iters = cal_S(in_G, 100, 0.6, SparseMatrix)\n",
    "print(iters)\n",
    "print(S)"
   ]
  },
  {
   "cell_type": "code",
   "execution_count": 11,
   "metadata": {
    "ExecuteTime": {
     "end_time": "2018-06-18T01:48:28.930023Z",
     "start_time": "2018-06-18T01:19:19.157102Z"
    }
   },
   "outputs": [
    {
     "name": "stdout",
     "output_type": "stream",
     "text": [
      "2\n",
      "[[1.         0.         0.         ... 0.         0.         0.        ]\n",
      " [0.         1.         0.6        ... 0.         0.         0.        ]\n",
      " [0.         0.6        1.         ... 0.         0.         0.        ]\n",
      " ...\n",
      " [0.         0.         0.         ... 1.         0.11882935 0.07740604]\n",
      " [0.         0.         0.         ... 0.11882935 1.         0.10313502]\n",
      " [0.         0.         0.         ... 0.07740604 0.10313502 1.        ]]\n"
     ]
    }
   ],
   "source": [
    "S, iters = cal_S(in_G, 100, 0.6)\n",
    "print(iters)\n",
    "print(S)"
   ]
  },
  {
   "cell_type": "code",
   "execution_count": 14,
   "metadata": {
    "ExecuteTime": {
     "end_time": "2018-06-18T02:09:32.843429Z",
     "start_time": "2018-06-18T02:08:17.167568Z"
    }
   },
   "outputs": [],
   "source": [
    "S, res = MonteCarla(in_G, 200, 6, 0.6, S)"
   ]
  },
  {
   "cell_type": "code",
   "execution_count": 23,
   "metadata": {
    "ExecuteTime": {
     "end_time": "2018-06-18T02:15:43.898911Z",
     "start_time": "2018-06-18T02:15:43.792035Z"
    }
   },
   "outputs": [
    {
     "data": {
      "text/plain": [
       "[<matplotlib.lines.Line2D at 0x7fcc95f999b0>]"
      ]
     },
     "execution_count": 23,
     "metadata": {},
     "output_type": "execute_result"
    },
    {
     "data": {
      "image/png": "[encoded data removed]",
      "text/plain": [
       "<Figure size 432x288 with 1 Axes>"
      ]
     },
     "metadata": {},
     "output_type": "display_data"
    }
   ],
   "source": [
    "res = np.array(res) / num_e\n",
    "plt.plot(range(len(res)), res)"
   ]
  },
  {
   "cell_type": "code",
   "execution_count": 238,
   "metadata": {
    "ExecuteTime": {
     "end_time": "2018-06-17T17:10:54.736501Z",
     "start_time": "2018-06-17T17:10:54.733040Z"
    }
   },
   "outputs": [],
   "source": [
    "def reverse_edge(path):\n",
    "    reverse_edge = []\n",
    "    f = open(path)\n",
    "    lines = f.readlines()\n",
    "    f.close()\n",
    "    for i, line in enumerate(lines):\n",
    "        if i == 0: num_v = line\n",
    "        elif i == 1: num_e = line\n",
    "        else:\n",
    "            substrs = line.split(\" \")\n",
    "            reverse_edge.append((int(substrs[1]), int(substrs[0])))\n",
    "        \n",
    "    f = open(path + \"_reverse\", 'w')\n",
    "    f.write(num_v + num_e)\n",
    "    for edge in sorted(reverse_edge):\n",
    "        f.write(\"{} {}\\n\".format(*edge))\n",
    "        \n",
    "    #import os\n",
    "    #! hash-partitioner.pl Input/testgraph_reverse 4\n",
    "    \n",
    "reverse_edge(\"/home/hui/github/BigDataWork/bigwork/SimRank/Input/testgraph\")"
   ]
  },
  {
   "cell_type": "code",
   "execution_count": 165,
   "metadata": {
    "ExecuteTime": {
     "end_time": "2018-06-17T16:16:10.854851Z",
     "start_time": "2018-06-17T16:16:10.605865Z"
    }
   },
   "outputs": [
    {
     "name": "stdout",
     "output_type": "stream",
     "text": [
      "/bin/sh: 1: hash-partitioner.pl: not found\r\n"
     ]
    }
   ],
   "source": [
    "reverse_edge(\"/home/hui/github/BigDataWork/bigwork/SimRank/Input/facebookcombined\")\n",
    "! hash-partitioner.pl /home/hui/github/BigDataWork/bigwork/SimRank/Input/facebookcombined_reverse 4"
   ]
  },
  {
   "cell_type": "markdown",
   "metadata": {},
   "source": [
    "```\n",
    "1. input:\n",
    "    1.1 输入格式 edge reverse\n",
    "    1.3 Inputformatter: change vertex/msg size, change load_graph\n",
    "    1.4 change OutputFormatter\n",
    "    1.2 compute superstep==0 init vertex value (Vertex use pointer, set to NULL and not use same in loadGraph and init in superstep==0)\n",
    "    1.3 add recieve merge msg code\n",
    "        Messges<Msg>* --> \n",
    "    1.4 add send msg code\n",
    "    1.5 similar matrix only save retangle part. sim[i][j] j = i+1:N, j>i saved\n",
    "```"
   ]
  },
  {
   "cell_type": "markdown",
   "metadata": {},
   "source": [
    "graphLite 常规报错\n",
    "1. 1.1 常用工具 kill_graphlite.sh\n",
    "   1.2 常用输出控制\n",
    "   ```\n",
    "    ofstream cout;\n",
    "    cout.open(\"/home/hui/github/BigDataWork/bigwork/SimRank/log.txt\", ios_base::app);\n",
    "    cout << getVertexId() << \" done\" << endl;\n",
    "   ```\n",
    "\n",
    "2. 错在 Input,很可能是输入的文件路径错误.\n",
    "```\n",
    "init\n",
    "manageSuperstep\n",
    "Sender: connect: Connection refused\n",
    "```\n",
    "\n",
    "3. pmsgs->m_vector_size == 0时候(没有收到消息), 调用了pmsgs->getValue(), 卡死在那里\n",
    "\n",
    "4. use i+1<received_msg.size() inplace i<received_msg.size()-1, cuase size is uint, uint(0-1) get uing::max()"
   ]
  },
  {
   "cell_type": "markdown",
   "metadata": {},
   "source": [
    "## test"
   ]
  },
  {
   "cell_type": "code",
   "execution_count": 21,
   "metadata": {
    "ExecuteTime": {
     "end_time": "2018-06-20T01:55:02.260308Z",
     "start_time": "2018-06-20T01:55:02.251173Z"
    }
   },
   "outputs": [],
   "source": [
    "import numpy as np\n",
    "from tqdm import tqdm\n",
    "prefix = '/home/hui/github/BigDataWork/bigwork/SimRank/'\n",
    "\n",
    "def getS(path, N):\n",
    "    S = np.eye(N)\n",
    "    f = open(path)\n",
    "    n = 0\n",
    "    for line in f:\n",
    "        substrs = line[:-1].split(' ')\n",
    "        if len(substrs) < 3:\n",
    "            continue\n",
    "        s, t, v = substrs\n",
    "        s, t, v = int(s), int(t), float(v)\n",
    "        if s > t:\n",
    "            print(\"error\", s, t, path)\n",
    "        S[s, t] = v\n",
    "        n += 1\n",
    "    f.close()\n",
    "    return S, n\n",
    " \n",
    "def compute(K, N, stdS, logpath):\n",
    "    Sold = np.eye(N)\n",
    "    update = []\n",
    "    error = []\n",
    "    for i in tqdm(range(1, K+1)):\n",
    "        path = '{}/{}.txt'.format(logpath, 10*i)\n",
    "        S, n = getS(path, N)\n",
    "        update.append(np.max(np.abs(S - Sold)))\n",
    "        error.append(np.sum(np.abs(S - stdS) / N))\n",
    "        Sold[:, :] = S[:, :]\n",
    "    return update, error, n\n",
    "\n",
    "def get_rank_tS(path):\n",
    "    lines = open(path).readlines()\n",
    "    tS = [None] * len(lines)\n",
    "    for i, line in enumerate(lines):\n",
    "        substrs = line[:-1].split(' ')\n",
    "        if len(substrs) < 3:\n",
    "            continue\n",
    "        s, t, v = substrs\n",
    "        s, t, v = int(s), int(t), float(v)\n",
    "        if s > t:\n",
    "            print(\"error\", s, t, path)\n",
    "        tS[i] = (-v, s, t)\n",
    "        \n",
    "    tS.sort(key=lambda x: x)\n",
    "    return tS\n",
    "\n",
    "def get_rank_S(tS, n, N):\n",
    "    if n > 0: tS = tS[:n]\n",
    "    S = np.zeros(shape=(N, N))\n",
    "    for i, (v, s, t) in enumerate(tS):\n",
    "        S[s, t] = i\n",
    "    return S\n",
    "\n",
    "def compute_rank(K, N, stdtS, logpath):\n",
    "    def tial_rank_dis(N, n):\n",
    "        tail_n = N * (N-1) / 2 - n\n",
    "        # (0 + 1 + 2 + ... tail_n) / (N*(N-1))/2\n",
    "        return tail_n * (tail_n - 1) / N / (N+1)\n",
    "    \n",
    "    Sold, oldtS_n = np.zeros(shape=(N, N)), 0\n",
    "    stdS, stdn = get_rank_S(stdtS, len(stdtS), N), len(stdtS)\n",
    "    update = []\n",
    "    error = []\n",
    "    res = {'update2': [], 'error2': []}\n",
    "    for i in tqdm(range(1, K+1)):\n",
    "        path = '{}/{}.txt'.format(logpath, 10*i)\n",
    "        tS = get_rank_tS(path)\n",
    "        \n",
    "        n = min([len(tS), oldtS_n])\n",
    "        d = abs(len(tS) - oldtS_n)\n",
    "        S = get_rank_S(tS, n, N)\n",
    "        tmp = (np.sum(np.abs((S-Sold))) + d * (d-1) / 2)\n",
    "        update.append(tmp/(n+d))\n",
    "        res['update2'].append(tmp/N/(N+1) * 2)\n",
    "        \n",
    "        n = min([len(tS), stdn])\n",
    "        d = abs(len(tS) - stdn)\n",
    "        S = get_rank_S(tS, n, N)\n",
    "        tmp = (np.sum(np.abs((S-stdS))) + d * (d-1) / 2)\n",
    "        error.append(tmp/(n+d))\n",
    "        res['error2'].append(tmp/N/(N+1) * 2)\n",
    "        \n",
    "        Sold[:, :] = get_rank_S(tS, len(tS), N)\n",
    "        oldtS_n = len(tS)\n",
    "    return update, error, res"
   ]
  },
  {
   "cell_type": "markdown",
   "metadata": {},
   "source": [
    "### test graph\n",
    "```\n",
    "EPS = 1e-6\n",
    "test_sync: 0.000107s  K = 35\n",
    "test_async: 0.000122s K = 21\n",
    "\n",
    "K, L, C = 100, 6, 0.8\n",
    "24.92s\n",
    "```"
   ]
  },
  {
   "cell_type": "code",
   "execution_count": 22,
   "metadata": {
    "ExecuteTime": {
     "end_time": "2018-06-20T01:55:02.978398Z",
     "start_time": "2018-06-20T01:55:02.970709Z"
    }
   },
   "outputs": [
    {
     "name": "stderr",
     "output_type": "stream",
     "text": [
      "100%|██████████| 10/10 [00:00<00:00, 9425.40it/s]\n",
      "100%|██████████| 10/10 [00:00<00:00, 8994.86it/s]\n"
     ]
    }
   ],
   "source": [
    "K, N = 10, 8\n",
    "Sa, San = getS(prefix + \"log/naive_simrank_test_async.txt\", N)\n",
    "Ss, Ssn = getS(prefix + \"log/naive_simrank_test_sync.txt\", N)\n",
    "update, error, n = compute(K, N, Ss, prefix + \"/log/testgraph\")\n",
    "update, error = np.array(update) * N / n, np.array(error) * N / n\n",
    "\n",
    "tSa = get_rank_tS(prefix + \"log/naive_simrank_test_async.txt\")\n",
    "tSs = get_rank_tS(prefix + \"log/naive_simrank_test_sync.txt\")\n",
    "rank_update, rank_error, res = compute_rank(K, N, tSs, prefix + \"/log/testgraph\")"
   ]
  },
  {
   "cell_type": "code",
   "execution_count": 23,
   "metadata": {
    "ExecuteTime": {
     "end_time": "2018-06-20T01:55:03.701103Z",
     "start_time": "2018-06-20T01:55:03.696931Z"
    }
   },
   "outputs": [
    {
     "name": "stdout",
     "output_type": "stream",
     "text": [
      "4.722222222222222\n"
     ]
    }
   ],
   "source": [
    "tSa1 = get_rank_tS(prefix + \"log/naive_simrank_test_async.txt\")\n",
    "tSa2 = get_rank_tS(prefix + \"log/testgraph/100.txt\")\n",
    "n = min([len(tSa1), len(tSa2)])\n",
    "d = abs(len(tSa1) - len(tSa2))\n",
    "Sa1 = get_rank_S(tSa1, n, N)\n",
    "Sa2 = get_rank_S(tSa2, n, N)\n",
    "print((np.sum(np.abs((Sa1-Sa2))) + d * (d-1) / 2)/n)"
   ]
  },
  {
   "cell_type": "code",
   "execution_count": 24,
   "metadata": {
    "ExecuteTime": {
     "end_time": "2018-06-20T01:55:04.672676Z",
     "start_time": "2018-06-20T01:55:04.507315Z"
    }
   },
   "outputs": [
    {
     "data": {
      "image/png": "[encoded data removed]",
      "text/plain": [
       "<Figure size 432x288 with 1 Axes>"
      ]
     },
     "metadata": {},
     "output_type": "display_data"
    },
    {
     "data": {
      "image/png": "[encoded data removed]",
      "text/plain": [
       "<Figure size 432x288 with 1 Axes>"
      ]
     },
     "metadata": {},
     "output_type": "display_data"
    }
   ],
   "source": [
    "import matplotlib.pyplot as plt\n",
    "plt.plot(range(len(update)), update, label='update')\n",
    "plt.plot(range(len(error)), error, label='error')\n",
    "plt.legend()\n",
    "plt.xlabel('similar value')\n",
    "plt.show()\n",
    "\n",
    "plt.plot(range(len(update)), rank_update, label='update')\n",
    "plt.plot(range(len(error)), rank_error, label='error')\n",
    "plt.plot(range(len(update)), res['update2'], label='update2')\n",
    "plt.plot(range(len(error)), res['error2'], label='error2')\n",
    "plt.legend()\n",
    "plt.xlabel('similar rank')\n",
    "plt.show()"
   ]
  },
  {
   "cell_type": "markdown",
   "metadata": {},
   "source": [
    "### facebook\n",
    "```\n",
    "EPS = 1e-6\n",
    "test_sync: 3586.19s  K = 21\n",
    "\n",
    "0 38067.8\n",
    "1 9455.28\n",
    "2 41036.1\n",
    "3 17052.4\n",
    "4 12718.4\n",
    "5 6769.23\n",
    "6 2946.04\n",
    "7 1067.19\n",
    "8 334.399\n",
    "9 91.5177\n",
    "10 22.3637\n",
    "11 5.0193\n",
    "12 1.05391\n",
    "13 0.209107\n",
    "14 0.0391644\n",
    "15 0.0068696\n",
    "16 0.00111712\n",
    "17 0.000167038\n",
    "18 2.28455e-05\n",
    "19 2.85119e-06\n",
    "20 3.24539e-07\n",
    "\n",
    "test_async: 389.623s K = 2\n",
    "\n",
    "K, L, C = 100, 6, 0.8\n",
    "52.41s\n",
    "\n",
    "with log use time: 231.41s\n",
    "```"
   ]
  },
  {
   "cell_type": "code",
   "execution_count": 49,
   "metadata": {
    "ExecuteTime": {
     "end_time": "2018-06-20T02:43:04.829136Z",
     "start_time": "2018-06-20T02:42:12.911892Z"
    }
   },
   "outputs": [
    {
     "name": "stderr",
     "output_type": "stream",
     "text": [
      "100%|██████████| 10/10 [00:38<00:00,  3.81s/it]\n"
     ]
    }
   ],
   "source": [
    "K, N = 10, 4039\n",
    "Sa, San = getS(prefix + \"log/naive_simrank_facebook_async.txt\", N)\n",
    "Ss, Ssn = getS(prefix + \"log/naive_simrank_facebook_sync.txt\", N)\n",
    "update, error, n = compute(K, N, Ss, prefix + \"/log/facebook3\")\n",
    "update, error = np.array(update) * N / n, np.array(error) * N / n\n",
    "\n",
    "#tSa = get_rank_tS(prefix + \"log/naive_simrank_facebook_async.txt\")\n",
    "#tSs = get_rank_tS(prefix + \"log/naive_simrank_facebook_sync.txt\")\n",
    "#rank_update, rank_error, res = compute_rank(K, N, tSs, prefix + \"/log/facebook\")"
   ]
  },
  {
   "cell_type": "code",
   "execution_count": 51,
   "metadata": {
    "ExecuteTime": {
     "end_time": "2018-06-20T02:45:11.652802Z",
     "start_time": "2018-06-20T02:45:09.467977Z"
    }
   },
   "outputs": [
    {
     "data": {
      "text/plain": [
       "Text(0.5,0,'similar value')"
      ]
     },
     "execution_count": 51,
     "metadata": {},
     "output_type": "execute_result"
    },
    {
     "data": {
      "image/png": "[encoded data removed]",
      "text/plain": [
       "<Figure size 432x288 with 1 Axes>"
      ]
     },
     "metadata": {},
     "output_type": "display_data"
    }
   ],
   "source": [
    "x = np.array(range(len(update3))) * 10\n",
    "s, e = 0, 11\n",
    "plt.plot(x[s:e], error1[s:e], label='K=100, L= 6, C=0.6')\n",
    "plt.plot(x[s:e], error2[s:e], label='K=100, L=10, C=0.6')\n",
    "plt.plot(x[s:e], error3[s:e], label='K=100, L= 6, C=0.8')\n",
    "plt.legend()\n",
    "plt.xlabel('similar value')"
   ]
  },
  {
   "cell_type": "code",
   "execution_count": 50,
   "metadata": {
    "ExecuteTime": {
     "end_time": "2018-06-20T02:43:06.605684Z",
     "start_time": "2018-06-20T02:43:06.520485Z"
    }
   },
   "outputs": [
    {
     "data": {
      "image/png": "[encoded data removed]",
      "text/plain": [
       "<Figure size 432x288 with 1 Axes>"
      ]
     },
     "metadata": {},
     "output_type": "display_data"
    }
   ],
   "source": [
    "# 100 6 0.8\n",
    "import matplotlib.pyplot as plt\n",
    "x = np.array(range(len(update3))) * 10\n",
    "s, e = 0, 11\n",
    "\n",
    "plt.plot(x[s:e], update3[s:e]*50, label='update')\n",
    "plt.plot(x[s:e], error3[s:e], label='error')\n",
    "plt.legend()\n",
    "plt.xlabel('similar value')\n",
    "plt.show()"
   ]
  },
  {
   "cell_type": "code",
   "execution_count": 47,
   "metadata": {
    "ExecuteTime": {
     "end_time": "2018-06-20T02:41:55.996175Z",
     "start_time": "2018-06-20T02:41:55.908229Z"
    }
   },
   "outputs": [
    {
     "data": {
      "image/png": "[encoded data removed]",
      "text/plain": [
       "<Figure size 432x288 with 1 Axes>"
      ]
     },
     "metadata": {},
     "output_type": "display_data"
    }
   ],
   "source": [
    "# 100 10 0.6\n",
    "import matplotlib.pyplot as plt\n",
    "x = np.array(range(len(update2))) * 10\n",
    "s, e = 0, 11\n",
    "\n",
    "plt.plot(x[s:e], update2[s:e]*50, label='update')\n",
    "plt.plot(x[s:e], error2[s:e], label='error')\n",
    "plt.legend()\n",
    "plt.xlabel('similar value')\n",
    "plt.show()"
   ]
  },
  {
   "cell_type": "code",
   "execution_count": 48,
   "metadata": {
    "ExecuteTime": {
     "end_time": "2018-06-20T02:42:02.541470Z",
     "start_time": "2018-06-20T02:42:02.459466Z"
    }
   },
   "outputs": [
    {
     "data": {
      "image/png": "[encoded data removed]",
      "text/plain": [
       "<Figure size 432x288 with 1 Axes>"
      ]
     },
     "metadata": {},
     "output_type": "display_data"
    }
   ],
   "source": [
    "# 100 6 0.6\n",
    "\n",
    "import matplotlib.pyplot as plt\n",
    "x = np.array(range(len(update1))) * 10\n",
    "s, e = 0, 11\n",
    "\n",
    "plt.plot(x[s:e], update1[s:e]* 50, label='update')\n",
    "plt.plot(x[s:e], error1[s:e], label='error')\n",
    "plt.legend()\n",
    "plt.xlabel('similar value')\n",
    "plt.show()"
   ]
  },
  {
   "cell_type": "code",
   "execution_count": 27,
   "metadata": {
    "ExecuteTime": {
     "end_time": "2018-06-20T02:03:06.971373Z",
     "start_time": "2018-06-20T02:03:06.880827Z"
    }
   },
   "outputs": [
    {
     "data": {
      "image/png": "[encoded data removed]",
      "text/plain": [
       "<Figure size 432x288 with 1 Axes>"
      ]
     },
     "metadata": {},
     "output_type": "display_data"
    }
   ],
   "source": [
    "# 100 6 0.8\n",
    "\n",
    "import matplotlib.pyplot as plt\n",
    "x = np.array(range(len(update))) * 10\n",
    "s, e = 0, 70\n",
    "\n",
    "plt.plot(x[s:e], update[s:e], label='update')\n",
    "plt.plot(x[s:e], error[s:e], label='error')\n",
    "plt.legend()\n",
    "plt.xlabel('similar value')\n",
    "plt.show()\n",
    "\n",
    "# plt.plot(x[s:e], rank_update[s:e], label='update')\n",
    "# plt.plot(x[s:e], rank_error[s:e], label='error')\n",
    "# plt.plot(x[s:e], res['update2'][s:e], label='update2')\n",
    "# plt.plot(x[s:e], res['error2'][s:e], label='error2')\n",
    "# plt.legend()\n",
    "# plt.xlabel('similar rank')\n",
    "# plt.show()"
   ]
  },
  {
   "cell_type": "code",
   "execution_count": 184,
   "metadata": {
    "ExecuteTime": {
     "end_time": "2018-06-19T12:32:55.768660Z",
     "start_time": "2018-06-19T12:32:55.765753Z"
    }
   },
   "outputs": [
    {
     "name": "stdout",
     "output_type": "stream",
     "text": [
      "0 1 0.52\n",
      "100 99 0.33\n"
     ]
    }
   ],
   "source": [
    "import struct\n",
    "byte = open('/home/hui/github/BigDataWork/bigwork/SimRank/log.bin', 'rb').read()\n",
    "# print(len(byte))\n",
    "for i in range(2):\n",
    "    s, t, v = struct.unpack('2Qd', byte[i*24:i*24+24])\n",
    "    print(s, t, v)"
   ]
  },
  {
   "cell_type": "markdown",
   "metadata": {},
   "source": [
    "## 1. 算法调研\n",
    "### 1.1 simrank介绍 wiki\n",
    "### 1.2 高效近似算法 http://www.cnblogs.com/zhangchaoyang/articles/4575809.html\n",
    "\n",
    "## 2. 高效算法\n",
    "### 2.1 Monte Carlo random working\n",
    "### 2.2 GraphLite 实现的一些技巧\n",
    "#### 2.2.1 edge reverse\n",
    "#### 2.2.2 \n",
    "\n",
    "## 3. 性能测试\n",
    "```\n",
    "实验环境\n",
    "OS: ubuntu 16.04\n",
    "CPU: Intel(R) Core(TM) i7-7700 CPU @ 3.60GHz 4核8线程\n",
    "cache size: 8192 KB * 8\n",
    "memory size: 32G\n",
    "```\n",
    "\n"
   ]
  },
  {
   "cell_type": "code",
   "execution_count": null,
   "metadata": {},
   "outputs": [],
   "source": []
  }
 ],
 "metadata": {
  "kernelspec": {
   "display_name": "Python 3",
   "language": "python",
   "name": "python3"
  },
  "language_info": {
   "codemirror_mode": {
    "name": "ipython",
    "version": 3
   },
   "file_extension": ".py",
   "mimetype": "text/x-python",
   "name": "python",
   "nbconvert_exporter": "python",
   "pygments_lexer": "ipython3",
   "version": "3.5.2"
  }
 },
 "nbformat": 4,
 "nbformat_minor": 2
}
