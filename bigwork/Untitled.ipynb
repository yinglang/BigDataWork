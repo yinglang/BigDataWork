{
 "cells": [
  {
   "cell_type": "markdown",
   "metadata": {},
   "source": [
    "$$error = \\frac{\\sum_{i=0}^{N-1}\\sum_{j=0}^{N-1}\\left|S(i, j) - S^{true}(i, j)\\right|}{max(\\left|S(i, j)\\right|_{0}, \\left|S^{true}\\right|_{0})}$$\n",
    "\n",
    "$$rank\\_error = \\sum_{i=0}^{N-1}\\sum_{j=0}^{N-1}\\left|R(i, j) - R^{true}(i, j)\\right|$$"
   ]
  },
  {
   "cell_type": "code",
   "execution_count": null,
   "metadata": {},
   "outputs": [],
   "source": [
    "```cpp\n",
    "K is Monte Carlo experiment times, L is max length of walk path\n",
    "\n",
    "1. Init each vertex in Super Step 0;\n",
    "2. merge SubMsg to Msg (element to row);\n",
    "3. use DEAD Msg update vertex value; collect ALIVE Msg to ALIVE_Msg[];\n",
    "4. if supperStep() == K * L, then voteToHalt();\n",
    "   else if supperStep() % L == 0, then send Msg{vid, map_vid} to a random neighbour;\n",
    "   else then:\n",
    "    4.1 calculate similar of ALIVE_Msg:\n",
    "        for msg_i in ALIVE_Msg:\n",
    "            for msg_j in ALIVE_Msg;\n",
    "                if msg_i.map_vid[msg_j.vid] != 0:  // S[msg_i.vid, msg_j.vid]\n",
    "                    msg_i.map_vid[msg_j.vid] = C^(superStep())\n",
    "    \n",
    "    4.2 rand send ALIVE_Msg out(for random walk)\n",
    "    4.3 if supperStep() % L == L-1 or ALIVE_Msg amsg have no neighbour to sned, then:\n",
    "            amsg.flag = DEAD\n",
    "            send amsg to amsg.vid\n",
    "```"
   ]
  },
  {
   "cell_type": "code",
   "execution_count": null,
   "metadata": {},
   "outputs": [],
   "source": [
    "error是Monte Carlo求得的解和精确解的误差, update是Monte Carlo本轮结果和上一轮的差, 反映收敛情况."
   ]
  }
 ],
 "metadata": {
  "kernelspec": {
   "display_name": "Python 3",
   "language": "python",
   "name": "python3"
  },
  "language_info": {
   "codemirror_mode": {
    "name": "ipython",
    "version": 3
   },
   "file_extension": ".py",
   "mimetype": "text/x-python",
   "name": "python",
   "nbconvert_exporter": "python",
   "pygments_lexer": "ipython3",
   "version": "3.5.2"
  }
 },
 "nbformat": 4,
 "nbformat_minor": 2
}
